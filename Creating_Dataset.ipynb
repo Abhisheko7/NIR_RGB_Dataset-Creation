{
  "nbformat": 4,
  "nbformat_minor": 0,
  "metadata": {
    "colab": {
      "name": "Creating Dataset.ipynb",
      "provenance": [],
      "collapsed_sections": [
        "OfiA_aaPp98t"
      ]
    },
    "kernelspec": {
      "name": "python3",
      "display_name": "Python 3"
    },
    "language_info": {
      "name": "python"
    }
  },
  "cells": [
    {
      "cell_type": "markdown",
      "source": [
        "# CREATING DATASET\n",
        "\n"
      ],
      "metadata": {
        "id": "49FhVsNxp2tC"
      }
    },
    {
      "cell_type": "code",
      "execution_count": null,
      "metadata": {
        "id": "Ipd4cDjERQ82"
      },
      "outputs": [],
      "source": [
        "import os\n",
        "import datetime\n",
        "import numpy as np\n",
        "import pandas as pd\n",
        "from PIL import Image"
      ]
    },
    {
      "cell_type": "code",
      "source": [
        "dataset = pd.DataFrame(columns=[\"rgb_path\", \"nir_path\"])\n",
        "val_dataset = pd.DataFrame(columns=[\"rgb_path\", \"nir_path\"])\n",
        "\n",
        "def lets_merge_datasets(dataset, df_to_merge):\n",
        "  dataset = pd.concat([dataset, df_to_merge])\n",
        "  print(f\"Dataset len is: {len(dataset)}\")\n",
        "  return dataset"
      ],
      "metadata": {
        "id": "hqmMLXIBYAdr"
      },
      "execution_count": null,
      "outputs": []
    },
    {
      "cell_type": "code",
      "source": [
        "#1 creates a dataframe with img path and creation times\n",
        "def get_df_time(dir, which=\"rgb\"):\n",
        "  df = pd.DataFrame(columns=[f\"{which}_path\", f\"{which}_m_time\", f\"{which}_m_time_ns\", f\"{which}_c_time\", f\"{which}_c_time_ns\" ])\n",
        "  for name in os.listdir(dir):\n",
        "    img_path = os.path.join(dir, name)\n",
        "    c_time = os.path.getctime(img_path) # ctime\n",
        "    c_time_ns = os.stat(img_path).st_ctime_ns # ctime nano-sec\n",
        "    m_time = os.path.getmtime(img_path) # mtime sec\n",
        "    m_time_ns = os.stat(img_path).st_mtime_ns # mtime nano-sec\n",
        "    each_row = pd.DataFrame({f\"{which}_path\" : img_path,\n",
        "                             f\"{which}_m_time\" : np.double(m_time), f\"{which}_m_time_ns\" : np.double(m_time_ns),\n",
        "                             f\"{which}_c_time\" : np.double(c_time), f\"{which}_c_time_ns\" : np.double(c_time_ns)}, index=[0])\n",
        "    \n",
        "    df = pd.concat([df, each_row])\n",
        "  df.reset_index(drop=True, inplace=True)\n",
        "  return df\n",
        "\n",
        "\n",
        "#2 get DATAFRAME from given NIR, RGB paths\n",
        "def get_df_matches(rgb_dir, nir_dir):\n",
        "  rgb_df = get_df_time(rgb_dir, which=\"rgb\")\n",
        "  nir_df = get_df_time(nir_dir, which=\"nir\")\n",
        "\n",
        "  data_match = pd.DataFrame(columns=[\"rgb_path\", \"nir_path\"])\n",
        "  threshold = 100000000 #nanoseconds\n",
        "  print(f\"The threshold set is {threshold} nanoseconds == {threshold * 1e-3} microseconds == {threshold * 1e-6} milliseconds == {threshold * 1e-9} seconds\")\n",
        "\n",
        "  for i in range(len(rgb_df)):\n",
        "    for j in range(len(nir_df)):\n",
        "      rgb_path, rgb_m_time, rgb_m_time_ns, rgb_c_time,\trgb_c_time_ns = rgb_df.iloc[i]\n",
        "      nir_path, nir_m_time, nir_m_time_ns, nir_c_time,\tnir_c_time_ns = nir_df.iloc[j]\n",
        "      if (abs(np.double(rgb_c_time_ns - nir_c_time_ns)) <= threshold) and (abs(np.double(rgb_m_time_ns - nir_m_time_ns)) <= threshold):\n",
        "        n_diff = abs(np.double(rgb_c_time_ns - nir_c_time_ns))\n",
        "        m_diff = abs(np.double(rgb_m_time_ns - nir_m_time_ns))\n",
        "        each_row = pd.DataFrame({\n",
        "            \"rgb_path\" : rgb_path ,\n",
        "            \"nir_path\" : nir_path,\t\n",
        "        }, index=[0])\n",
        "\n",
        "        data_match = pd.concat([data_match, each_row])\n",
        "        nir_df.drop(nir_df.index[j])\n",
        "        break\n",
        "  data_match.reset_index(drop=True, inplace=True)\n",
        "  print(f\"length of this dataframe is - {len(data_match)}\")\n",
        "  return data_match"
      ],
      "metadata": {
        "id": "BlAMzWtUU0Aa"
      },
      "execution_count": null,
      "outputs": []
    },
    {
      "cell_type": "code",
      "source": [
        ""
      ],
      "metadata": {
        "id": "HQ2W-S4vZNHN"
      },
      "execution_count": null,
      "outputs": []
    },
    {
      "cell_type": "code",
      "source": [
        "rgb_dir = r\"E:\\road 1\\R\"\n",
        "nir_dir = r\"E:\\road 1\\N\"\n",
        "print(f\"Total No. of RGB images collected is {len(os.listrdir(rgb_dir))} and Total No. of NIR images collected is {len(os.listdir(nir_dir))}\")\n",
        "\n",
        "df_to_merge = get_df_matches(rgb_dir, nir_dir)\n",
        "dataset = lets_merge_datasets(dataset, df_to_merge)"
      ],
      "metadata": {
        "colab": {
          "base_uri": "https://localhost:8080/"
        },
        "id": "6Z_Nkdh5UxI-",
        "outputId": "ee388601-17e3-4dd9-fe25-8e2f657e3588"
      },
      "execution_count": null,
      "outputs": [
        {
          "output_type": "stream",
          "name": "stdout",
          "text": [
            "The threshold set is 100000000 nanoseconds == 100000.0 microseconds == 100.0 milliseconds == 0.1 seconds\n",
            "length of this dataframe is - 607\n",
            "Dataset len is: 607\n"
          ]
        }
      ]
    },
    {
      "cell_type": "code",
      "source": [
        "rgb_dir = r\"E:\\road 2\\R\"\n",
        "nir_dir = r\"E:\\road 2\\N\"\n",
        "print(f\"Total No. of RGB images collected is {len(os.listrdir(rgb_dir))} and Total No. of NIR images collected is {len(os.listdir(nir_dir))}\")\n",
        "\n",
        "df_to_merge= get_df_matches(rgb_dir, nir_dir)\n",
        "dataset = lets_merge_datasets(dataset, df_to_merge)"
      ],
      "metadata": {
        "colab": {
          "base_uri": "https://localhost:8080/"
        },
        "id": "TFpVXCgKZygO",
        "outputId": "ce5a55c2-e9b0-458a-e55b-885a389356ff"
      },
      "execution_count": null,
      "outputs": [
        {
          "output_type": "stream",
          "name": "stdout",
          "text": [
            "The threshold set is 100000000 nanoseconds == 100000.0 microseconds == 100.0 milliseconds == 0.1 seconds\n",
            "length of this dataframe is - 690\n",
            "Dataset len is: 1297\n"
          ]
        }
      ]
    },
    {
      "cell_type": "code",
      "source": [
        "rgb_dir = r\"E:\\road 3\\R\"\n",
        "nir_dir = r\"E:\\road 3\\N\"\n",
        "print(f\"Total No. of RGB images collected is {len(os.listrdir(rgb_dir))} and Total No. of NIR images collected is {len(os.listdir(nir_dir))}\")\n",
        "\n",
        "df_to_merge= get_df_matches(rgb_dir, nir_dir)\n",
        "dataset = lets_merge_datasets(dataset, df_to_merge)"
      ],
      "metadata": {
        "colab": {
          "base_uri": "https://localhost:8080/"
        },
        "id": "xS-CD551pKb_",
        "outputId": "68e6cd5c-93de-45e6-cf25-d6b297ea58aa"
      },
      "execution_count": null,
      "outputs": [
        {
          "output_type": "stream",
          "name": "stdout",
          "text": [
            "The threshold set is 100000000 nanoseconds == 100000.0 microseconds == 100.0 milliseconds == 0.1 seconds\n",
            "length of this dataframe is - 457\n",
            "Dataset len is: 1754\n"
          ]
        }
      ]
    },
    {
      "cell_type": "code",
      "source": [
        "rgb_dir = r\"E:\\road 4\\R\"\n",
        "nir_dir = r\"E:\\road 4\\N\"\n",
        "print(f\"Total No. of RGB images collected is {len(os.listrdir(rgb_dir))} and Total No. of NIR images collected is {len(os.listdir(nir_dir))}\")\n",
        "\n",
        "df_to_merge= get_df_matches(rgb_dir, nir_dir)\n",
        "dataset = lets_merge_datasets(dataset, df_to_merge)"
      ],
      "metadata": {
        "colab": {
          "base_uri": "https://localhost:8080/"
        },
        "id": "nMW0zZwOODVA",
        "outputId": "c495dab1-6d63-4ef5-8312-762b73662f36"
      },
      "execution_count": null,
      "outputs": [
        {
          "output_type": "stream",
          "name": "stdout",
          "text": [
            "The threshold set is 100000000 nanoseconds == 100000.0 microseconds == 100.0 milliseconds == 0.1 seconds\n",
            "length of this dataframe is - 200\n",
            "Dataset len is: 1954\n"
          ]
        }
      ]
    },
    {
      "cell_type": "code",
      "source": [
        "dataset.reset_index(drop=True, inplace=True)"
      ],
      "metadata": {
        "id": "_Kfyn9FeNq4G"
      },
      "execution_count": null,
      "outputs": []
    },
    {
      "cell_type": "code",
      "source": [
        "# val dataset\n",
        "rgb_dir = r\"E:\\ROAD 6\\R\"\n",
        "nir_dir = r\"E:\\ROAD 6\\N\"\n",
        "print(f\"Total No. of RGB images collected is {len(os.listdir(rgb_dir))} and Total No. of NIR images collected is {len(os.listdir(nir_dir))}\")\n",
        "\n",
        "val_dataset = get_df_matches(rgb_dir, nir_dir)\n",
        "val_dataset.reset_index(drop=True, inplace=True)"
      ],
      "metadata": {
        "id": "0_hMYhEjG41y",
        "colab": {
          "base_uri": "https://localhost:8080/"
        },
        "outputId": "eaf042c6-c8a7-48d6-8589-d66bd6bbdbf3"
      },
      "execution_count": null,
      "outputs": [
        {
          "output_type": "stream",
          "name": "stdout",
          "text": [
            "Total No. of RGB images collected is 327 and Total No. of NIR images collected is 349\n",
            "The threshold set is 100000000 nanoseconds == 100000.0 microseconds == 100.0 milliseconds == 0.1 seconds\n",
            "length of this dataframe is - 143\n"
          ]
        }
      ]
    },
    {
      "cell_type": "code",
      "source": [
        "rgb_dir = r\"E:\\day-1-dataset\\rgb\"\n",
        "nir_dir = r\"E:\\day-1-dataset\\nir\"\n",
        "\n",
        "rgb_train = os.path.join(rgb_dir, \"train\")\n",
        "nir_train = os.path.join(nir_dir, \"train\")\n",
        "\n",
        "rgb_val = os.path.join(rgb_dir, \"val\")\n",
        "nir_val = os.path.join(nir_dir, \"val\")\n",
        "\n",
        "rgb_test = os.path.join(rgb_dir, \"test\")\n",
        "nir_test = os.path.join(nir_dir, \"test\")"
      ],
      "metadata": {
        "id": "oU3DD_ujE3E5"
      },
      "execution_count": null,
      "outputs": []
    },
    {
      "cell_type": "code",
      "source": [
        "# train\n",
        "for index, row in dataset.iterrows():\n",
        "  rgb_path = row['rgb_path']\n",
        "  nir_path = row['nir_path']\n",
        "  \n",
        "  rgb_img = Image.open(rgb_path)\n",
        "  nir_img = Image.open(nir_path)\n",
        "  \n",
        "  name = str(index) + '.bmp'\n",
        "\n",
        "  rgb_img.save(f\"{rgb_train}/{name}\")\n",
        "  nir_img.save(f\"{nir_train}/{name}\")"
      ],
      "metadata": {
        "id": "aNjKXR4NFwpS"
      },
      "execution_count": null,
      "outputs": []
    },
    {
      "cell_type": "code",
      "source": [
        "#val, test\n",
        "for index, row in val_dataset.iterrows():\n",
        "  rgb_path = row['rgb_path']\n",
        "  nir_path = row['nir_path']\n",
        "  \n",
        "  rgb_img = Image.open(rgb_path)\n",
        "  nir_img = Image.open(nir_path)\n",
        "  \n",
        "  name = str(index) + '.bmp'\n",
        " \n",
        "  rgb_img.save(f\"{rgb_test}/{name}\")\n",
        "  nir_img.save(f\"{nir_test}/{name}\")  \n"
      ],
      "metadata": {
        "id": "_V4W1W1ZKjDJ"
      },
      "execution_count": null,
      "outputs": []
    },
    {
      "cell_type": "code",
      "source": [
        ""
      ],
      "metadata": {
        "id": "uLFzVJxZQoQG"
      },
      "execution_count": null,
      "outputs": []
    }
  ]
}