{
  "nbformat": 4,
  "nbformat_minor": 0,
  "metadata": {
    "colab": {
      "name": "count total images.ipynb",
      "provenance": []
    },
    "kernelspec": {
      "name": "python3",
      "display_name": "Python 3"
    },
    "language_info": {
      "name": "python"
    }
  },
  "cells": [
    {
      "cell_type": "code",
      "source": [
        "import os\n",
        "\n",
        "total_rgb, total_nir = 0, 0"
      ],
      "metadata": {
        "id": "m37QoiOUcuro"
      },
      "execution_count": null,
      "outputs": []
    },
    {
      "cell_type": "code",
      "execution_count": null,
      "metadata": {
        "colab": {
          "base_uri": "https://localhost:8080/"
        },
        "id": "D3IKoPWVcg-g",
        "outputId": "9f6e4983-a178-490e-b4ad-13dd9ea2b5c8"
      },
      "outputs": [
        {
          "output_type": "stream",
          "name": "stdout",
          "text": [
            "Total No. of RGB images collected is 785 and Total No. of NIR images collected is 764\n"
          ]
        }
      ],
      "source": [
        "rgb_dir = r\"E:\\road 1\\R\"\n",
        "nir_dir = r\"E:\\road 1\\N\"\n",
        "\n",
        "total_rgb += len(os.listdir(rgb_dir))\n",
        "total_nir += len(os.listdir(nir_dir))\n",
        "\n",
        "print(f\"Total No. of RGB images collected is {len(os.listdir(rgb_dir))} and Total No. of NIR images collected is {len(os.listdir(nir_dir))}\")"
      ]
    },
    {
      "cell_type": "code",
      "source": [
        "rgb_dir = r\"E:\\road 2\\R\"\n",
        "nir_dir = r\"E:\\road 2\\N\"\n",
        "\n",
        "total_rgb += len(os.listdir(rgb_dir))\n",
        "total_nir += len(os.listdir(nir_dir))\n",
        "\n",
        "print(f\"Total No. of RGB images collected is {len(os.listdir(rgb_dir))} and Total No. of NIR images collected is {len(os.listdir(nir_dir))}\")"
      ],
      "metadata": {
        "colab": {
          "base_uri": "https://localhost:8080/"
        },
        "id": "lmSnPzWhcofh",
        "outputId": "14cb0380-0fff-43b6-d2d0-3daef9e6926a"
      },
      "execution_count": null,
      "outputs": [
        {
          "output_type": "stream",
          "name": "stdout",
          "text": [
            "Total No. of RGB images collected is 1039 and Total No. of NIR images collected is 1014\n"
          ]
        }
      ]
    },
    {
      "cell_type": "code",
      "source": [
        "rgb_dir = r\"E:\\road 3\\R\"\n",
        "nir_dir = r\"E:\\road 3\\N\"\n",
        "\n",
        "total_rgb += len(os.listdir(rgb_dir))\n",
        "total_nir += len(os.listdir(nir_dir))\n",
        "\n",
        "print(f\"Total No. of RGB images collected is {len(os.listdir(rgb_dir))} and Total No. of NIR images collected is {len(os.listdir(nir_dir))}\")"
      ],
      "metadata": {
        "colab": {
          "base_uri": "https://localhost:8080/"
        },
        "id": "Lqa2Lv3GcqOr",
        "outputId": "a5e3edf2-ae52-436c-ac9b-9448dd0deca0"
      },
      "execution_count": null,
      "outputs": [
        {
          "output_type": "stream",
          "name": "stdout",
          "text": [
            "Total No. of RGB images collected is 717 and Total No. of NIR images collected is 716\n"
          ]
        }
      ]
    },
    {
      "cell_type": "code",
      "source": [
        "rgb_dir = r\"E:\\road 4\\R\"\n",
        "nir_dir = r\"E:\\road 4\\N\"\n",
        "\n",
        "total_rgb += len(os.listdir(rgb_dir))\n",
        "total_nir += len(os.listdir(nir_dir))\n",
        "\n",
        "print(f\"Total No. of RGB images collected is {len(os.listdir(rgb_dir))} and Total No. of NIR images collected is {len(os.listdir(nir_dir))}\")\n"
      ],
      "metadata": {
        "colab": {
          "base_uri": "https://localhost:8080/"
        },
        "id": "-NeFx9Picr0f",
        "outputId": "26430e4c-e57c-49c9-bbae-a82f3ed40f00"
      },
      "execution_count": null,
      "outputs": [
        {
          "output_type": "stream",
          "name": "stdout",
          "text": [
            "Total No. of RGB images collected is 394 and Total No. of NIR images collected is 382\n"
          ]
        }
      ]
    },
    {
      "cell_type": "code",
      "source": [
        "rgb_dir = r\"E:\\ROAD 6\\R\"\n",
        "nir_dir = r\"E:\\ROAD 6\\N\"\n",
        "\n",
        "total_rgb += len(os.listdir(rgb_dir))\n",
        "total_nir += len(os.listdir(nir_dir))\n",
        "\n",
        "print(f\"Total No. of RGB images collected is {len(os.listdir(rgb_dir))} and Total No. of NIR images collected is {len(os.listdir(nir_dir))}\")"
      ],
      "metadata": {
        "colab": {
          "base_uri": "https://localhost:8080/"
        },
        "id": "0-JiJPWYcwvj",
        "outputId": "82a2c0a4-56a6-4815-f958-6ff198f4f89a"
      },
      "execution_count": null,
      "outputs": [
        {
          "output_type": "stream",
          "name": "stdout",
          "text": [
            "Total No. of RGB images collected is 327 and Total No. of NIR images collected is 349\n"
          ]
        }
      ]
    },
    {
      "cell_type": "code",
      "source": [
        "print(f\"Total No. of RGB images collected is {total_rgb} and \\nTotal No. of NIR images collected is {total_nir}\")"
      ],
      "metadata": {
        "colab": {
          "base_uri": "https://localhost:8080/"
        },
        "id": "H0xhV-J1dALS",
        "outputId": "5104afad-313b-409a-b5fc-1cbd59fa1e1b"
      },
      "execution_count": null,
      "outputs": [
        {
          "output_type": "stream",
          "name": "stdout",
          "text": [
            "Total No. of RGB images collected is 3262 and \n",
            "Total No. of NIR images collected is 3225\n"
          ]
        }
      ]
    },
    {
      "cell_type": "code",
      "source": [
        ""
      ],
      "metadata": {
        "id": "IeflTikVvpWw"
      },
      "execution_count": null,
      "outputs": []
    }
  ]
}